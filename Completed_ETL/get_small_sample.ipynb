{
 "cells": [
  {
   "cell_type": "code",
   "execution_count": 1,
   "metadata": {},
   "outputs": [],
   "source": [
    "import pandas as pd\n"
   ]
  },
  {
   "cell_type": "code",
   "execution_count": 5,
   "metadata": {},
   "outputs": [],
   "source": [
    "year = ['2016', '2017', '2018', '2019']\n",
    "df_list = {}\n",
    "for y in year:\n",
    "    file_name = f\"Resources/Large/san_francisco-censustracts-{y}-3-All-HourlyAggregate.csv\"\n",
    "    df_list[y] = pd.read_csv(file_name, \n",
    "                             usecols=['sourceid', \n",
    "                                      'dstid', \n",
    "                                      'hod', \n",
    "                                      'mean_travel_time', \n",
    "                                      'standard_deviation_travel_time'],\n",
    "                             nrows=1000000)"
   ]
  },
  {
   "cell_type": "code",
   "execution_count": 6,
   "metadata": {},
   "outputs": [
    {
     "data": {
      "text/plain": [
       "(1000000, 5)"
      ]
     },
     "execution_count": 6,
     "metadata": {},
     "output_type": "execute_result"
    }
   ],
   "source": [
    "df_list['2016'].shape"
   ]
  },
  {
   "cell_type": "code",
   "execution_count": 7,
   "metadata": {},
   "outputs": [],
   "source": [
    "for y in year:\n",
    "    file_name = f\"Resources/san_francisco-censustracts-{y}-3-All-HourlyAggregate.csv\"\n",
    "    df_list[y].to_csv(file_name)"
   ]
  },
  {
   "cell_type": "code",
   "execution_count": null,
   "metadata": {},
   "outputs": [],
   "source": []
  }
 ],
 "metadata": {
  "kernelspec": {
   "display_name": "Python 3",
   "language": "python",
   "name": "python3"
  },
  "language_info": {
   "codemirror_mode": {
    "name": "ipython",
    "version": 3
   },
   "file_extension": ".py",
   "mimetype": "text/x-python",
   "name": "python",
   "nbconvert_exporter": "python",
   "pygments_lexer": "ipython3",
   "version": "3.7.4"
  }
 },
 "nbformat": 4,
 "nbformat_minor": 2
}
