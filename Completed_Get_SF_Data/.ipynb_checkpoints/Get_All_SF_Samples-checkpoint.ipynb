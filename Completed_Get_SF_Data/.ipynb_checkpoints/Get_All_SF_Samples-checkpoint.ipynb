{
 "cells": [
  {
   "cell_type": "code",
   "execution_count": 5,
   "metadata": {},
   "outputs": [],
   "source": [
    "import pandas as pd\n",
    "import json"
   ]
  },
  {
   "cell_type": "code",
   "execution_count": null,
   "metadata": {},
   "outputs": [],
   "source": [
    "with open('../Data/SF_Dict.json') as f:\n",
    "    SF_Dict = json.load(f)\n",
    "\n",
    "with open('../Data/SF_Features.json') as f:\n",
    "    SF_Features = json.load(f)\n",
    "\n",
    "with open('../Data/SF_ID.json') as f:\n",
    "    SF_ID = json.load(f)"
   ]
  },
  {
   "cell_type": "code",
   "execution_count": null,
   "metadata": {},
   "outputs": [],
   "source": [
    "years = ['2016', '2017', '2018', '2019']\n",
    "for y in years:\n",
    "    file_name = f\"../Data/san_francisco-censustracts-{y}-3-All-HourlyAggregate.csv\"\n",
    "    df = pd.read_csv(file_name, \n",
    "                     usecols=['sourceid', \n",
    "                              'dstid', \n",
    "                              'hod', \n",
    "                              'mean_travel_time', \n",
    "                              'standard_deviation_travel_time']\n",
    "                     )\n",
    "    result_list = []\n",
    "    for start_id1 in SF_ID:\n",
    "        df_rows1 = df[\"sourceid\"] == start_id1\n",
    "        for start_id2 in SF_ID:\n",
    "            df_rows2 = (df[df_rows1])[\"dstid\"] == start_id2\n",
    "            df_rows2_index = df_rows2.index.to_list()\n",
    "            for i in df_rows2_index:\n",
    "                if df_rows2[i] == True:\n",
    "                    result_list.append(i)\n",
    "    SF_Sample = df.iloc[result_list, :]\n",
    "    SF_Sample.to_csv(f'..\\Data\\SF_Sample_{y}.csv')\n",
    "    \n"
   ]
  }
 ],
 "metadata": {
  "kernelspec": {
   "display_name": "Python 3",
   "language": "python",
   "name": "python3"
  },
  "language_info": {
   "codemirror_mode": {
    "name": "ipython",
    "version": 3
   },
   "file_extension": ".py",
   "mimetype": "text/x-python",
   "name": "python",
   "nbconvert_exporter": "python",
   "pygments_lexer": "ipython3",
   "version": "3.7.4"
  }
 },
 "nbformat": 4,
 "nbformat_minor": 2
}
