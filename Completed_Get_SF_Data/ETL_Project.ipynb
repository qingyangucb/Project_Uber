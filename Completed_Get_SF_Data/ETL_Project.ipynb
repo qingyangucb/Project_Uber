{
 "cells": [
  {
   "cell_type": "code",
   "execution_count": 2,
   "metadata": {},
   "outputs": [],
   "source": [
    "import pandas as pd\n",
    "import os\n",
    "import sqlalchemy\n",
    "from sqlalchemy.ext.automap import automap_base\n",
    "from sqlalchemy.orm import Session\n",
    "from sqlalchemy import create_engine, inspect\n",
    "\n",
    "import json\n",
    "import pprint\n",
    "from pymongo import MongoClient"
   ]
  },
  {
   "cell_type": "code",
   "execution_count": 2,
   "metadata": {},
   "outputs": [],
   "source": [
    "year = ['2016', '2017', '2018', '2019']\n",
    "\n",
    "df_list = {}\n",
    "for y in year:\n",
    "    file_name = f\"Resources/san_francisco-censustracts-{y}-3-All-HourlyAggregate.csv\"\n",
    "    df_list[y] = pd.read_csv(file_name, usecols=['sourceid', 'dstid', 'hod', 'mean_travel_time', 'standard_deviation_travel_time'])"
   ]
  },
  {
   "cell_type": "code",
   "execution_count": 3,
   "metadata": {},
   "outputs": [
    {
     "name": "stdout",
     "output_type": "stream",
     "text": [
      "   sourceid  dstid  hod  mean_travel_time  standard_deviation_travel_time\n",
      "0         7      6   23            258.13                          186.05\n",
      "1         9      2   23           2241.63                          308.47\n",
      "2         3     17   15           3403.58                          544.78\n",
      "3         3     38    5            305.63                          152.80\n",
      "4         2     61   11           1324.60                          237.68\n",
      "------------------------------\n",
      "   sourceid  dstid  hod  mean_travel_time  standard_deviation_travel_time\n",
      "0         6      5    1           2324.14                          590.86\n",
      "1         6      7    7            748.86                          286.52\n",
      "2         2     20   14           3377.44                          420.10\n",
      "3         3     17    1           3035.29                          163.68\n",
      "4         3     38   20            334.59                          260.88\n",
      "------------------------------\n",
      "   sourceid  dstid  hod  mean_travel_time  standard_deviation_travel_time\n",
      "0      2153    549    9           1303.00                          397.95\n",
      "1      1746   1555    0           1367.13                          253.72\n",
      "2      1639   2625    0            407.87                          154.37\n",
      "3      1775   1265    0            454.95                          213.09\n",
      "4       619    488    4            790.43                          320.73\n",
      "------------------------------\n",
      "   sourceid  dstid  hod  mean_travel_time  standard_deviation_travel_time\n",
      "0      2434    907   14           2325.87                          598.57\n",
      "1        21   1361    7           4404.81                          618.36\n",
      "2       143    141    7            625.85                          304.91\n",
      "3       299   2694   14            668.08                          216.40\n",
      "4        30   1271    7           1989.34                          659.54\n",
      "------------------------------\n"
     ]
    }
   ],
   "source": [
    "for y in year:\n",
    "    print(df_list[y].head())\n",
    "    print('------------------------------')"
   ]
  },
  {
   "cell_type": "code",
   "execution_count": 4,
   "metadata": {},
   "outputs": [],
   "source": [
    "engine = create_engine(\"sqlite:///Resources/files.sqlite\")\n",
    "conn = engine.connect()"
   ]
  },
  {
   "cell_type": "code",
   "execution_count": 5,
   "metadata": {},
   "outputs": [],
   "source": [
    "Base = automap_base()"
   ]
  },
  {
   "cell_type": "code",
   "execution_count": 6,
   "metadata": {},
   "outputs": [],
   "source": [
    "Base.prepare(engine, reflect=True)"
   ]
  },
  {
   "cell_type": "code",
   "execution_count": 7,
   "metadata": {},
   "outputs": [],
   "source": [
    "for y in year:\n",
    "    df_list[y].to_sql(y,conn, if_exists='replace', index = False)"
   ]
  },
  {
   "cell_type": "code",
   "execution_count": 8,
   "metadata": {},
   "outputs": [
    {
     "data": {
      "text/plain": [
       "['2016', '2017', '2018', '2019']"
      ]
     },
     "execution_count": 8,
     "metadata": {},
     "output_type": "execute_result"
    }
   ],
   "source": [
    "inspector = inspect(engine)\n",
    "inspector.get_table_names()"
   ]
  },
  {
   "cell_type": "code",
   "execution_count": 9,
   "metadata": {},
   "outputs": [],
   "source": [
    "path = os.path.join('Resources', 'san_francisco_censustracts.json')\n",
    "with open(path) as json_file:\n",
    "    data = json.load(json_file)"
   ]
  },
  {
   "cell_type": "code",
   "execution_count": 10,
   "metadata": {},
   "outputs": [
    {
     "data": {
      "text/plain": [
       "<pymongo.results.InsertOneResult at 0x233a8264b08>"
      ]
     },
     "execution_count": 10,
     "metadata": {},
     "output_type": "execute_result"
    }
   ],
   "source": [
    "client = MongoClient('localhost', 27017)\n",
    "db = client['map_tile']\n",
    "db.bay_area.drop()\n",
    "bay_area = db['bay_area']\n",
    "bay_area.insert_one(data)"
   ]
  },
  {
   "cell_type": "code",
   "execution_count": 11,
   "metadata": {},
   "outputs": [],
   "source": [
    "# example=bay_area.find()\n",
    "# pp = pprint.PrettyPrinter(indent=2)\n",
    "# pp.pprint(example)\n",
    "# print(type(example))\n",
    "# for i in example:\n",
    "#     print(i)"
   ]
  },
  {
   "cell_type": "code",
   "execution_count": null,
   "metadata": {},
   "outputs": [],
   "source": []
  }
 ],
 "metadata": {
  "kernelspec": {
   "display_name": "Python 3",
   "language": "python",
   "name": "python3"
  },
  "language_info": {
   "codemirror_mode": {
    "name": "ipython",
    "version": 3
   },
   "file_extension": ".py",
   "mimetype": "text/x-python",
   "name": "python",
   "nbconvert_exporter": "python",
   "pygments_lexer": "ipython3",
   "version": "3.7.4"
  }
 },
 "nbformat": 4,
 "nbformat_minor": 2
}
